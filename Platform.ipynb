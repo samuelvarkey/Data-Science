{
  "nbformat": 4,
  "nbformat_minor": 0,
  "metadata": {
    "kernelspec": {
      "display_name": "Python 3",
      "language": "python",
      "name": "python3"
    },
    "language_info": {
      "codemirror_mode": {
        "name": "ipython",
        "version": 3
      },
      "file_extension": ".py",
      "mimetype": "text/x-python",
      "name": "python",
      "nbconvert_exporter": "python",
      "pygments_lexer": "ipython3",
      "version": "3.7.3"
    },
    "colab": {
      "name": "Platform.ipynb",
      "provenance": [],
      "collapsed_sections": [],
      "toc_visible": true,
      "include_colab_link": true
    }
  },
  "cells": [
    {
      "cell_type": "markdown",
      "metadata": {
        "id": "view-in-github",
        "colab_type": "text"
      },
      "source": [
        "<a href=\"https://colab.research.google.com/github/samuelvarkey/Data-Science/blob/master/Platform.ipynb\" target=\"_parent\"><img src=\"https://colab.research.google.com/assets/colab-badge.svg\" alt=\"Open In Colab\"/></a>"
      ]
    },
    {
      "cell_type": "code",
      "metadata": {
        "id": "NdNcBas1l4r3",
        "colab_type": "code",
        "outputId": "7c129cf8-4196-4a18-d263-80e823cdef1e",
        "colab": {
          "base_uri": "https://localhost:8080/",
          "height": 71
        }
      },
      "source": [
        "#import libraries\n",
        "import pandas as pd\n",
        "import numpy as np\n",
        "import matplotlib.pyplot as plt\n",
        "import seaborn as sns\n",
        "sns.set(font_scale=1.2,style='darkgrid')\n",
        "\n",
        "%matplotlib inline\n",
        "\n",
        "import warnings\n",
        "warnings.filterwarnings(\"ignore\")"
      ],
      "execution_count": 0,
      "outputs": [
        {
          "output_type": "stream",
          "text": [
            "/usr/local/lib/python3.6/dist-packages/statsmodels/tools/_testing.py:19: FutureWarning: pandas.util.testing is deprecated. Use the functions in the public API at pandas.testing instead.\n",
            "  import pandas.util.testing as tm\n"
          ],
          "name": "stderr"
        }
      ]
    },
    {
      "cell_type": "code",
      "metadata": {
        "id": "Ju1KhgcUl9Gz",
        "colab_type": "code",
        "outputId": "acc5bd1b-dd21-409e-9f24-821e80238221",
        "colab": {
          "base_uri": "https://localhost:8080/",
          "height": 122
        }
      },
      "source": [
        "from google.colab import drive\n",
        "drive.mount('/content/drive')"
      ],
      "execution_count": 0,
      "outputs": [
        {
          "output_type": "stream",
          "text": [
            "Go to this URL in a browser: https://accounts.google.com/o/oauth2/auth?client_id=947318989803-6bn6qk8qdgf4n4g3pfee6491hc0brc4i.apps.googleusercontent.com&redirect_uri=urn%3aietf%3awg%3aoauth%3a2.0%3aoob&response_type=code&scope=email%20https%3a%2f%2fwww.googleapis.com%2fauth%2fdocs.test%20https%3a%2f%2fwww.googleapis.com%2fauth%2fdrive%20https%3a%2f%2fwww.googleapis.com%2fauth%2fdrive.photos.readonly%20https%3a%2f%2fwww.googleapis.com%2fauth%2fpeopleapi.readonly\n",
            "\n",
            "Enter your authorization code:\n",
            "··········\n",
            "Mounted at /content/drive\n"
          ],
          "name": "stdout"
        }
      ]
    },
    {
      "cell_type": "code",
      "metadata": {
        "id": "kn7Wk0SFl4r8",
        "colab_type": "code",
        "outputId": "5c16cb35-1c96-4c6f-9695-728d9c8f98c1",
        "colab": {
          "base_uri": "https://localhost:8080/",
          "height": 17
        }
      },
      "source": [
        "#change display into using full screen\n",
        "from IPython.core.display import display, HTML\n",
        "display(HTML(\"<style>.container { width:100% !important; }</style>\"))"
      ],
      "execution_count": 0,
      "outputs": [
        {
          "output_type": "display_data",
          "data": {
            "text/html": [
              "<style>.container { width:100% !important; }</style>"
            ],
            "text/plain": [
              "<IPython.core.display.HTML object>"
            ]
          },
          "metadata": {
            "tags": []
          }
        }
      ]
    },
    {
      "cell_type": "code",
      "metadata": {
        "id": "G2jEV07El4sA",
        "colab_type": "code",
        "colab": {}
      },
      "source": [
        "#import .csv file\n",
        "data = pd.read_csv('/content/drive/My Drive/Digital Marketing data/4. FB_data_platform.csv')"
      ],
      "execution_count": 0,
      "outputs": []
    },
    {
      "cell_type": "code",
      "metadata": {
        "id": "dG_bTxEAl4sF",
        "colab_type": "code",
        "outputId": "41800498-6755-4da1-fca8-853cc089b9a7",
        "colab": {
          "base_uri": "https://localhost:8080/",
          "height": 683
        }
      },
      "source": [
        "data.head()"
      ],
      "execution_count": 0,
      "outputs": [
        {
          "output_type": "execute_result",
          "data": {
            "text/html": [
              "<div>\n",
              "<style scoped>\n",
              "    .dataframe tbody tr th:only-of-type {\n",
              "        vertical-align: middle;\n",
              "    }\n",
              "\n",
              "    .dataframe tbody tr th {\n",
              "        vertical-align: top;\n",
              "    }\n",
              "\n",
              "    .dataframe thead th {\n",
              "        text-align: right;\n",
              "    }\n",
              "</style>\n",
              "<table border=\"1\" class=\"dataframe\">\n",
              "  <thead>\n",
              "    <tr style=\"text-align: right;\">\n",
              "      <th></th>\n",
              "      <th>Campaign name</th>\n",
              "      <th>Ad set name</th>\n",
              "      <th>Ad name</th>\n",
              "      <th>Platform</th>\n",
              "      <th>Result Type</th>\n",
              "      <th>Results</th>\n",
              "      <th>CTR (all)</th>\n",
              "      <th>Result rate</th>\n",
              "      <th>Amount spent (INR)</th>\n",
              "      <th>Cost per result</th>\n",
              "      <th>Frequency</th>\n",
              "      <th>CPM (cost per 1,000 impressions)</th>\n",
              "      <th>Impressions</th>\n",
              "      <th>Clicks (all)</th>\n",
              "      <th>Reporting starts</th>\n",
              "      <th>Reporting ends</th>\n",
              "    </tr>\n",
              "  </thead>\n",
              "  <tbody>\n",
              "    <tr>\n",
              "      <th>0</th>\n",
              "      <td>CV - Franchise Lead Generation - Phase II - 3 Nov</td>\n",
              "      <td>IT Professionals</td>\n",
              "      <td>Image-Minimum Investment &amp; Maximum Profit</td>\n",
              "      <td>facebook</td>\n",
              "      <td>On-Facebook leads</td>\n",
              "      <td>66.0</td>\n",
              "      <td>2.048234</td>\n",
              "      <td>0.203283</td>\n",
              "      <td>3581.630000</td>\n",
              "      <td>54.267121</td>\n",
              "      <td>2.771168</td>\n",
              "      <td>110.316013</td>\n",
              "      <td>32467</td>\n",
              "      <td>665</td>\n",
              "      <td>2019-11-01</td>\n",
              "      <td>2019-12-03</td>\n",
              "    </tr>\n",
              "    <tr>\n",
              "      <th>1</th>\n",
              "      <td>CV - Franchise Lead Generation - Phase II - 3 Nov</td>\n",
              "      <td>Remarketing</td>\n",
              "      <td>Image-Partner with us today!</td>\n",
              "      <td>facebook</td>\n",
              "      <td>On-Facebook leads</td>\n",
              "      <td>38.0</td>\n",
              "      <td>1.614188</td>\n",
              "      <td>0.131629</td>\n",
              "      <td>2243.260000</td>\n",
              "      <td>59.033158</td>\n",
              "      <td>3.159917</td>\n",
              "      <td>77.704804</td>\n",
              "      <td>28869</td>\n",
              "      <td>466</td>\n",
              "      <td>2019-11-01</td>\n",
              "      <td>2019-12-03</td>\n",
              "    </tr>\n",
              "    <tr>\n",
              "      <th>2</th>\n",
              "      <td>CV - Franchise Lead Generation - Phase II - 3 Nov</td>\n",
              "      <td>Business Owners</td>\n",
              "      <td>Image-Minimum Investment &amp; Maximum Profit</td>\n",
              "      <td>facebook</td>\n",
              "      <td>On-Facebook leads</td>\n",
              "      <td>39.0</td>\n",
              "      <td>2.082948</td>\n",
              "      <td>0.180122</td>\n",
              "      <td>2564.862106</td>\n",
              "      <td>65.765695</td>\n",
              "      <td>2.252601</td>\n",
              "      <td>118.458438</td>\n",
              "      <td>21652</td>\n",
              "      <td>451</td>\n",
              "      <td>2019-11-01</td>\n",
              "      <td>2019-12-03</td>\n",
              "    </tr>\n",
              "    <tr>\n",
              "      <th>3</th>\n",
              "      <td>CV - Franchise Lead Generation - Phase II - 3 Nov</td>\n",
              "      <td>Business Owners</td>\n",
              "      <td>Video-No. 1 Franchise Opportunity</td>\n",
              "      <td>facebook</td>\n",
              "      <td>On-Facebook leads</td>\n",
              "      <td>27.0</td>\n",
              "      <td>2.073127</td>\n",
              "      <td>0.139240</td>\n",
              "      <td>2321.700000</td>\n",
              "      <td>85.988889</td>\n",
              "      <td>2.522899</td>\n",
              "      <td>119.730803</td>\n",
              "      <td>19391</td>\n",
              "      <td>402</td>\n",
              "      <td>2019-11-01</td>\n",
              "      <td>2019-12-03</td>\n",
              "    </tr>\n",
              "    <tr>\n",
              "      <th>4</th>\n",
              "      <td>CV - Franchise Lead Generation - Phase II - 3 Nov</td>\n",
              "      <td>Remarketing</td>\n",
              "      <td>Image-Minimum Investment &amp; Maximum Profit</td>\n",
              "      <td>facebook</td>\n",
              "      <td>On-Facebook leads</td>\n",
              "      <td>50.0</td>\n",
              "      <td>3.079187</td>\n",
              "      <td>0.262729</td>\n",
              "      <td>2037.960000</td>\n",
              "      <td>40.759200</td>\n",
              "      <td>2.754922</td>\n",
              "      <td>107.086333</td>\n",
              "      <td>19031</td>\n",
              "      <td>586</td>\n",
              "      <td>2019-11-01</td>\n",
              "      <td>2019-12-03</td>\n",
              "    </tr>\n",
              "  </tbody>\n",
              "</table>\n",
              "</div>"
            ],
            "text/plain": [
              "                                       Campaign name  ... Reporting ends\n",
              "0  CV - Franchise Lead Generation - Phase II - 3 Nov  ...     2019-12-03\n",
              "1  CV - Franchise Lead Generation - Phase II - 3 Nov  ...     2019-12-03\n",
              "2  CV - Franchise Lead Generation - Phase II - 3 Nov  ...     2019-12-03\n",
              "3  CV - Franchise Lead Generation - Phase II - 3 Nov  ...     2019-12-03\n",
              "4  CV - Franchise Lead Generation - Phase II - 3 Nov  ...     2019-12-03\n",
              "\n",
              "[5 rows x 16 columns]"
            ]
          },
          "metadata": {
            "tags": []
          },
          "execution_count": 5
        }
      ]
    },
    {
      "cell_type": "code",
      "metadata": {
        "id": "nPgTGMP8l4sI",
        "colab_type": "code",
        "colab": {}
      },
      "source": [
        "#Consider only those records where amount spent > 0\n",
        "data = data[(data['Amount spent (INR)'] > 0)]"
      ],
      "execution_count": 0,
      "outputs": []
    },
    {
      "cell_type": "code",
      "metadata": {
        "id": "b8735272l4sL",
        "colab_type": "code",
        "outputId": "c128686f-3897-4a30-9352-7aeacfb7f4a7",
        "colab": {
          "base_uri": "https://localhost:8080/",
          "height": 34
        }
      },
      "source": [
        "data.shape"
      ],
      "execution_count": 0,
      "outputs": [
        {
          "output_type": "execute_result",
          "data": {
            "text/plain": [
              "(62, 16)"
            ]
          },
          "metadata": {
            "tags": []
          },
          "execution_count": 7
        }
      ]
    },
    {
      "cell_type": "code",
      "metadata": {
        "id": "9QqC9RiGl4sP",
        "colab_type": "code",
        "colab": {}
      },
      "source": [
        "#We see that Reporting Starts and Reporting Ends are additional columns which we don't require. So we drop them\n",
        "data.drop(['Reporting ends','Reporting starts'],axis=1, inplace = True)"
      ],
      "execution_count": 0,
      "outputs": []
    },
    {
      "cell_type": "code",
      "metadata": {
        "id": "qak068BDl4sS",
        "colab_type": "code",
        "outputId": "c74fc7ac-79f8-4087-95f4-f74f6c2cf509",
        "colab": {
          "base_uri": "https://localhost:8080/",
          "height": 683
        }
      },
      "source": [
        "#look at the data again\n",
        "data.head()"
      ],
      "execution_count": 0,
      "outputs": [
        {
          "output_type": "execute_result",
          "data": {
            "text/html": [
              "<div>\n",
              "<style scoped>\n",
              "    .dataframe tbody tr th:only-of-type {\n",
              "        vertical-align: middle;\n",
              "    }\n",
              "\n",
              "    .dataframe tbody tr th {\n",
              "        vertical-align: top;\n",
              "    }\n",
              "\n",
              "    .dataframe thead th {\n",
              "        text-align: right;\n",
              "    }\n",
              "</style>\n",
              "<table border=\"1\" class=\"dataframe\">\n",
              "  <thead>\n",
              "    <tr style=\"text-align: right;\">\n",
              "      <th></th>\n",
              "      <th>Campaign name</th>\n",
              "      <th>Ad set name</th>\n",
              "      <th>Ad name</th>\n",
              "      <th>Platform</th>\n",
              "      <th>Result Type</th>\n",
              "      <th>Results</th>\n",
              "      <th>CTR (all)</th>\n",
              "      <th>Result rate</th>\n",
              "      <th>Amount spent (INR)</th>\n",
              "      <th>Cost per result</th>\n",
              "      <th>Frequency</th>\n",
              "      <th>CPM (cost per 1,000 impressions)</th>\n",
              "      <th>Impressions</th>\n",
              "      <th>Clicks (all)</th>\n",
              "    </tr>\n",
              "  </thead>\n",
              "  <tbody>\n",
              "    <tr>\n",
              "      <th>0</th>\n",
              "      <td>CV - Franchise Lead Generation - Phase II - 3 Nov</td>\n",
              "      <td>IT Professionals</td>\n",
              "      <td>Image-Minimum Investment &amp; Maximum Profit</td>\n",
              "      <td>facebook</td>\n",
              "      <td>On-Facebook leads</td>\n",
              "      <td>66.0</td>\n",
              "      <td>2.048234</td>\n",
              "      <td>0.203283</td>\n",
              "      <td>3581.630000</td>\n",
              "      <td>54.267121</td>\n",
              "      <td>2.771168</td>\n",
              "      <td>110.316013</td>\n",
              "      <td>32467</td>\n",
              "      <td>665</td>\n",
              "    </tr>\n",
              "    <tr>\n",
              "      <th>1</th>\n",
              "      <td>CV - Franchise Lead Generation - Phase II - 3 Nov</td>\n",
              "      <td>Remarketing</td>\n",
              "      <td>Image-Partner with us today!</td>\n",
              "      <td>facebook</td>\n",
              "      <td>On-Facebook leads</td>\n",
              "      <td>38.0</td>\n",
              "      <td>1.614188</td>\n",
              "      <td>0.131629</td>\n",
              "      <td>2243.260000</td>\n",
              "      <td>59.033158</td>\n",
              "      <td>3.159917</td>\n",
              "      <td>77.704804</td>\n",
              "      <td>28869</td>\n",
              "      <td>466</td>\n",
              "    </tr>\n",
              "    <tr>\n",
              "      <th>2</th>\n",
              "      <td>CV - Franchise Lead Generation - Phase II - 3 Nov</td>\n",
              "      <td>Business Owners</td>\n",
              "      <td>Image-Minimum Investment &amp; Maximum Profit</td>\n",
              "      <td>facebook</td>\n",
              "      <td>On-Facebook leads</td>\n",
              "      <td>39.0</td>\n",
              "      <td>2.082948</td>\n",
              "      <td>0.180122</td>\n",
              "      <td>2564.862106</td>\n",
              "      <td>65.765695</td>\n",
              "      <td>2.252601</td>\n",
              "      <td>118.458438</td>\n",
              "      <td>21652</td>\n",
              "      <td>451</td>\n",
              "    </tr>\n",
              "    <tr>\n",
              "      <th>3</th>\n",
              "      <td>CV - Franchise Lead Generation - Phase II - 3 Nov</td>\n",
              "      <td>Business Owners</td>\n",
              "      <td>Video-No. 1 Franchise Opportunity</td>\n",
              "      <td>facebook</td>\n",
              "      <td>On-Facebook leads</td>\n",
              "      <td>27.0</td>\n",
              "      <td>2.073127</td>\n",
              "      <td>0.139240</td>\n",
              "      <td>2321.700000</td>\n",
              "      <td>85.988889</td>\n",
              "      <td>2.522899</td>\n",
              "      <td>119.730803</td>\n",
              "      <td>19391</td>\n",
              "      <td>402</td>\n",
              "    </tr>\n",
              "    <tr>\n",
              "      <th>4</th>\n",
              "      <td>CV - Franchise Lead Generation - Phase II - 3 Nov</td>\n",
              "      <td>Remarketing</td>\n",
              "      <td>Image-Minimum Investment &amp; Maximum Profit</td>\n",
              "      <td>facebook</td>\n",
              "      <td>On-Facebook leads</td>\n",
              "      <td>50.0</td>\n",
              "      <td>3.079187</td>\n",
              "      <td>0.262729</td>\n",
              "      <td>2037.960000</td>\n",
              "      <td>40.759200</td>\n",
              "      <td>2.754922</td>\n",
              "      <td>107.086333</td>\n",
              "      <td>19031</td>\n",
              "      <td>586</td>\n",
              "    </tr>\n",
              "  </tbody>\n",
              "</table>\n",
              "</div>"
            ],
            "text/plain": [
              "                                       Campaign name  ... Clicks (all)\n",
              "0  CV - Franchise Lead Generation - Phase II - 3 Nov  ...          665\n",
              "1  CV - Franchise Lead Generation - Phase II - 3 Nov  ...          466\n",
              "2  CV - Franchise Lead Generation - Phase II - 3 Nov  ...          451\n",
              "3  CV - Franchise Lead Generation - Phase II - 3 Nov  ...          402\n",
              "4  CV - Franchise Lead Generation - Phase II - 3 Nov  ...          586\n",
              "\n",
              "[5 rows x 14 columns]"
            ]
          },
          "metadata": {
            "tags": []
          },
          "execution_count": 9
        }
      ]
    },
    {
      "cell_type": "code",
      "metadata": {
        "id": "dPIhK-Jpl4sV",
        "colab_type": "code",
        "outputId": "89d456c3-1d90-4eaa-9bac-433fdba8b9c0",
        "colab": {
          "base_uri": "https://localhost:8080/",
          "height": 34
        }
      },
      "source": [
        "#check rows and columns in data\n",
        "data.shape"
      ],
      "execution_count": 0,
      "outputs": [
        {
          "output_type": "execute_result",
          "data": {
            "text/plain": [
              "(62, 14)"
            ]
          },
          "metadata": {
            "tags": []
          },
          "execution_count": 10
        }
      ]
    },
    {
      "cell_type": "code",
      "metadata": {
        "id": "REzzF1sxl4sb",
        "colab_type": "code",
        "outputId": "b49eaa50-0dff-4f2f-e6e4-1985b8c1fa59",
        "colab": {
          "base_uri": "https://localhost:8080/",
          "height": 272
        }
      },
      "source": [
        "#let's look if any column has null values\n",
        "data.isnull().sum()"
      ],
      "execution_count": 0,
      "outputs": [
        {
          "output_type": "execute_result",
          "data": {
            "text/plain": [
              "Campaign name                        0\n",
              "Ad set name                          0\n",
              "Ad name                              0\n",
              "Platform                             0\n",
              "Result Type                         16\n",
              "Results                             16\n",
              "CTR (all)                            0\n",
              "Result rate                         16\n",
              "Amount spent (INR)                   0\n",
              "Cost per result                     16\n",
              "Frequency                            0\n",
              "CPM (cost per 1,000 impressions)     0\n",
              "Impressions                          0\n",
              "Clicks (all)                         0\n",
              "dtype: int64"
            ]
          },
          "metadata": {
            "tags": []
          },
          "execution_count": 11
        }
      ]
    },
    {
      "cell_type": "markdown",
      "metadata": {
        "id": "4I_61HLGl4sn",
        "colab_type": "text"
      },
      "source": [
        "#### Voila! Results & Result rate column has no nulls now. Let's see what column Results Type is all about. "
      ]
    },
    {
      "cell_type": "code",
      "metadata": {
        "id": "j9ZriGx8l4so",
        "colab_type": "code",
        "outputId": "15106898-6287-4dcc-9278-e03f1d0de517",
        "colab": {
          "base_uri": "https://localhost:8080/",
          "height": 51
        }
      },
      "source": [
        "data['Result Type'].value_counts()"
      ],
      "execution_count": 0,
      "outputs": [
        {
          "output_type": "execute_result",
          "data": {
            "text/plain": [
              "On-Facebook leads    46\n",
              "Name: Result Type, dtype: int64"
            ]
          },
          "metadata": {
            "tags": []
          },
          "execution_count": 14
        }
      ]
    },
    {
      "cell_type": "markdown",
      "metadata": {
        "id": "QmKyujTql4sr",
        "colab_type": "text"
      },
      "source": [
        "So we infer that 'Result Type' is basically the type of conversion event taking place. It can be either Page Like, Post Like, On-Facebook Lead, Custom Conversion etc. **Since, we are analysing just one campaign here, we can drop this column as it has same meaning throughout data set.**\n",
        "\n",
        "If we were analysing multiple campaigns, with different objectives, then keeping this column would have made sense."
      ]
    },
    {
      "cell_type": "code",
      "metadata": {
        "id": "ezRvARU7l4ss",
        "colab_type": "code",
        "colab": {}
      },
      "source": [
        "#Drop Result Type column from data\n",
        "data.drop(['Result Type'],axis=1, inplace = True)"
      ],
      "execution_count": 0,
      "outputs": []
    },
    {
      "cell_type": "code",
      "metadata": {
        "id": "954mak2jl4su",
        "colab_type": "code",
        "outputId": "34d34509-88f1-483b-ebc0-53b3144e9b38",
        "colab": {
          "base_uri": "https://localhost:8080/",
          "height": 255
        }
      },
      "source": [
        "#check how many nulls are still there \n",
        "data.isnull().sum()"
      ],
      "execution_count": 0,
      "outputs": [
        {
          "output_type": "execute_result",
          "data": {
            "text/plain": [
              "Campaign name                        0\n",
              "Ad set name                          0\n",
              "Ad name                              0\n",
              "Platform                             0\n",
              "Results                              0\n",
              "CTR (all)                            0\n",
              "Result rate                          0\n",
              "Amount spent (INR)                   0\n",
              "Cost per result                     16\n",
              "Frequency                            0\n",
              "CPM (cost per 1,000 impressions)     0\n",
              "Impressions                          0\n",
              "Clicks (all)                         0\n",
              "dtype: int64"
            ]
          },
          "metadata": {
            "tags": []
          },
          "execution_count": 16
        }
      ]
    },
    {
      "cell_type": "markdown",
      "metadata": {
        "id": "P04xJZqCl4sy",
        "colab_type": "text"
      },
      "source": [
        "Now we need to deal with **Cost per result**.\n",
        "The cases where CPA is Null means that there was no conversion. So ideally, in these cases the CPA should be very high (in case a conversion actually happened)."
      ]
    },
    {
      "cell_type": "markdown",
      "metadata": {
        "id": "PdhutvTGl4sy",
        "colab_type": "text"
      },
      "source": [
        "#### So, let's leave this column as it is because we can't assign any value for records where no conversion happened."
      ]
    },
    {
      "cell_type": "code",
      "metadata": {
        "id": "M_EbX1Erl4sz",
        "colab_type": "code",
        "outputId": "ad90dc7a-f895-42e2-8467-9064741c8b67",
        "colab": {
          "base_uri": "https://localhost:8080/",
          "height": 357
        }
      },
      "source": [
        "data.info()"
      ],
      "execution_count": 0,
      "outputs": [
        {
          "output_type": "stream",
          "text": [
            "<class 'pandas.core.frame.DataFrame'>\n",
            "Int64Index: 62 entries, 0 to 61\n",
            "Data columns (total 13 columns):\n",
            " #   Column                            Non-Null Count  Dtype  \n",
            "---  ------                            --------------  -----  \n",
            " 0   Campaign name                     62 non-null     object \n",
            " 1   Ad set name                       62 non-null     object \n",
            " 2   Ad name                           62 non-null     object \n",
            " 3   Platform                          62 non-null     object \n",
            " 4   Results                           62 non-null     float64\n",
            " 5   CTR (all)                         62 non-null     float64\n",
            " 6   Result rate                       62 non-null     float64\n",
            " 7   Amount spent (INR)                62 non-null     float64\n",
            " 8   Cost per result                   46 non-null     float64\n",
            " 9   Frequency                         62 non-null     float64\n",
            " 10  CPM (cost per 1,000 impressions)  62 non-null     float64\n",
            " 11  Impressions                       62 non-null     int64  \n",
            " 12  Clicks (all)                      62 non-null     int64  \n",
            "dtypes: float64(7), int64(2), object(4)\n",
            "memory usage: 6.8+ KB\n"
          ],
          "name": "stdout"
        }
      ]
    },
    {
      "cell_type": "markdown",
      "metadata": {
        "id": "tXLFgZdcl4s2",
        "colab_type": "text"
      },
      "source": [
        "### 1. We can divide Frequency in buckets"
      ]
    },
    {
      "cell_type": "code",
      "metadata": {
        "id": "KleIqVU-l4s3",
        "colab_type": "code",
        "colab": {}
      },
      "source": [
        "data['Frequency'] = data['Frequency'].apply(lambda x:'1 to 2' if x<2\n",
        "                                               else '2 to 3' if x>=2 and x<3 \n",
        "                                               else '3 to 4' if x>=3 and x<4\n",
        "                                               else '4 to 5' if x>=4 and x<5\n",
        "                                               else 'More than 5')"
      ],
      "execution_count": 0,
      "outputs": []
    },
    {
      "cell_type": "code",
      "metadata": {
        "id": "0-VLbWp3l4s5",
        "colab_type": "code",
        "outputId": "34a91ac2-3cb0-4470-d755-96325ece3a3a",
        "colab": {
          "base_uri": "https://localhost:8080/",
          "height": 683
        }
      },
      "source": [
        "data.head()"
      ],
      "execution_count": 0,
      "outputs": [
        {
          "output_type": "execute_result",
          "data": {
            "text/html": [
              "<div>\n",
              "<style scoped>\n",
              "    .dataframe tbody tr th:only-of-type {\n",
              "        vertical-align: middle;\n",
              "    }\n",
              "\n",
              "    .dataframe tbody tr th {\n",
              "        vertical-align: top;\n",
              "    }\n",
              "\n",
              "    .dataframe thead th {\n",
              "        text-align: right;\n",
              "    }\n",
              "</style>\n",
              "<table border=\"1\" class=\"dataframe\">\n",
              "  <thead>\n",
              "    <tr style=\"text-align: right;\">\n",
              "      <th></th>\n",
              "      <th>Campaign name</th>\n",
              "      <th>Ad set name</th>\n",
              "      <th>Ad name</th>\n",
              "      <th>Platform</th>\n",
              "      <th>Results</th>\n",
              "      <th>CTR (all)</th>\n",
              "      <th>Result rate</th>\n",
              "      <th>Amount spent (INR)</th>\n",
              "      <th>Cost per result</th>\n",
              "      <th>Frequency</th>\n",
              "      <th>CPM (cost per 1,000 impressions)</th>\n",
              "      <th>Impressions</th>\n",
              "      <th>Clicks (all)</th>\n",
              "    </tr>\n",
              "  </thead>\n",
              "  <tbody>\n",
              "    <tr>\n",
              "      <th>0</th>\n",
              "      <td>CV - Franchise Lead Generation - Phase II - 3 Nov</td>\n",
              "      <td>IT Professionals</td>\n",
              "      <td>Image-Minimum Investment &amp; Maximum Profit</td>\n",
              "      <td>facebook</td>\n",
              "      <td>66.0</td>\n",
              "      <td>2.048234</td>\n",
              "      <td>0.203283</td>\n",
              "      <td>3581.630000</td>\n",
              "      <td>54.267121</td>\n",
              "      <td>2 to 3</td>\n",
              "      <td>110.316013</td>\n",
              "      <td>32467</td>\n",
              "      <td>665</td>\n",
              "    </tr>\n",
              "    <tr>\n",
              "      <th>1</th>\n",
              "      <td>CV - Franchise Lead Generation - Phase II - 3 Nov</td>\n",
              "      <td>Remarketing</td>\n",
              "      <td>Image-Partner with us today!</td>\n",
              "      <td>facebook</td>\n",
              "      <td>38.0</td>\n",
              "      <td>1.614188</td>\n",
              "      <td>0.131629</td>\n",
              "      <td>2243.260000</td>\n",
              "      <td>59.033158</td>\n",
              "      <td>3 to 4</td>\n",
              "      <td>77.704804</td>\n",
              "      <td>28869</td>\n",
              "      <td>466</td>\n",
              "    </tr>\n",
              "    <tr>\n",
              "      <th>2</th>\n",
              "      <td>CV - Franchise Lead Generation - Phase II - 3 Nov</td>\n",
              "      <td>Business Owners</td>\n",
              "      <td>Image-Minimum Investment &amp; Maximum Profit</td>\n",
              "      <td>facebook</td>\n",
              "      <td>39.0</td>\n",
              "      <td>2.082948</td>\n",
              "      <td>0.180122</td>\n",
              "      <td>2564.862106</td>\n",
              "      <td>65.765695</td>\n",
              "      <td>2 to 3</td>\n",
              "      <td>118.458438</td>\n",
              "      <td>21652</td>\n",
              "      <td>451</td>\n",
              "    </tr>\n",
              "    <tr>\n",
              "      <th>3</th>\n",
              "      <td>CV - Franchise Lead Generation - Phase II - 3 Nov</td>\n",
              "      <td>Business Owners</td>\n",
              "      <td>Video-No. 1 Franchise Opportunity</td>\n",
              "      <td>facebook</td>\n",
              "      <td>27.0</td>\n",
              "      <td>2.073127</td>\n",
              "      <td>0.139240</td>\n",
              "      <td>2321.700000</td>\n",
              "      <td>85.988889</td>\n",
              "      <td>2 to 3</td>\n",
              "      <td>119.730803</td>\n",
              "      <td>19391</td>\n",
              "      <td>402</td>\n",
              "    </tr>\n",
              "    <tr>\n",
              "      <th>4</th>\n",
              "      <td>CV - Franchise Lead Generation - Phase II - 3 Nov</td>\n",
              "      <td>Remarketing</td>\n",
              "      <td>Image-Minimum Investment &amp; Maximum Profit</td>\n",
              "      <td>facebook</td>\n",
              "      <td>50.0</td>\n",
              "      <td>3.079187</td>\n",
              "      <td>0.262729</td>\n",
              "      <td>2037.960000</td>\n",
              "      <td>40.759200</td>\n",
              "      <td>2 to 3</td>\n",
              "      <td>107.086333</td>\n",
              "      <td>19031</td>\n",
              "      <td>586</td>\n",
              "    </tr>\n",
              "  </tbody>\n",
              "</table>\n",
              "</div>"
            ],
            "text/plain": [
              "                                       Campaign name  ... Clicks (all)\n",
              "0  CV - Franchise Lead Generation - Phase II - 3 Nov  ...          665\n",
              "1  CV - Franchise Lead Generation - Phase II - 3 Nov  ...          466\n",
              "2  CV - Franchise Lead Generation - Phase II - 3 Nov  ...          451\n",
              "3  CV - Franchise Lead Generation - Phase II - 3 Nov  ...          402\n",
              "4  CV - Franchise Lead Generation - Phase II - 3 Nov  ...          586\n",
              "\n",
              "[5 rows x 13 columns]"
            ]
          },
          "metadata": {
            "tags": []
          },
          "execution_count": 19
        }
      ]
    },
    {
      "cell_type": "markdown",
      "metadata": {
        "id": "aiT2L3RHl4s8",
        "colab_type": "text"
      },
      "source": [
        "### 2. Split Ad name into Ad Format and Ad Headline"
      ]
    },
    {
      "cell_type": "code",
      "metadata": {
        "id": "pfMh_QEnl4s8",
        "colab_type": "code",
        "colab": {}
      },
      "source": [
        "data['Ad_name'] = data['Ad name']"
      ],
      "execution_count": 0,
      "outputs": []
    },
    {
      "cell_type": "code",
      "metadata": {
        "id": "bfbSkO6Sl4s-",
        "colab_type": "code",
        "outputId": "5118d32c-83df-4e0a-cc43-8671bbc5c9ec",
        "colab": {
          "base_uri": "https://localhost:8080/",
          "height": 683
        }
      },
      "source": [
        "data.head()"
      ],
      "execution_count": 0,
      "outputs": [
        {
          "output_type": "execute_result",
          "data": {
            "text/html": [
              "<div>\n",
              "<style scoped>\n",
              "    .dataframe tbody tr th:only-of-type {\n",
              "        vertical-align: middle;\n",
              "    }\n",
              "\n",
              "    .dataframe tbody tr th {\n",
              "        vertical-align: top;\n",
              "    }\n",
              "\n",
              "    .dataframe thead th {\n",
              "        text-align: right;\n",
              "    }\n",
              "</style>\n",
              "<table border=\"1\" class=\"dataframe\">\n",
              "  <thead>\n",
              "    <tr style=\"text-align: right;\">\n",
              "      <th></th>\n",
              "      <th>Campaign name</th>\n",
              "      <th>Ad set name</th>\n",
              "      <th>Ad name</th>\n",
              "      <th>Platform</th>\n",
              "      <th>Results</th>\n",
              "      <th>CTR (all)</th>\n",
              "      <th>Result rate</th>\n",
              "      <th>Amount spent (INR)</th>\n",
              "      <th>Cost per result</th>\n",
              "      <th>Frequency</th>\n",
              "      <th>CPM (cost per 1,000 impressions)</th>\n",
              "      <th>Impressions</th>\n",
              "      <th>Clicks (all)</th>\n",
              "      <th>Ad_name</th>\n",
              "    </tr>\n",
              "  </thead>\n",
              "  <tbody>\n",
              "    <tr>\n",
              "      <th>0</th>\n",
              "      <td>CV - Franchise Lead Generation - Phase II - 3 Nov</td>\n",
              "      <td>IT Professionals</td>\n",
              "      <td>Image-Minimum Investment &amp; Maximum Profit</td>\n",
              "      <td>facebook</td>\n",
              "      <td>66.0</td>\n",
              "      <td>2.048234</td>\n",
              "      <td>0.203283</td>\n",
              "      <td>3581.630000</td>\n",
              "      <td>54.267121</td>\n",
              "      <td>2 to 3</td>\n",
              "      <td>110.316013</td>\n",
              "      <td>32467</td>\n",
              "      <td>665</td>\n",
              "      <td>Image-Minimum Investment &amp; Maximum Profit</td>\n",
              "    </tr>\n",
              "    <tr>\n",
              "      <th>1</th>\n",
              "      <td>CV - Franchise Lead Generation - Phase II - 3 Nov</td>\n",
              "      <td>Remarketing</td>\n",
              "      <td>Image-Partner with us today!</td>\n",
              "      <td>facebook</td>\n",
              "      <td>38.0</td>\n",
              "      <td>1.614188</td>\n",
              "      <td>0.131629</td>\n",
              "      <td>2243.260000</td>\n",
              "      <td>59.033158</td>\n",
              "      <td>3 to 4</td>\n",
              "      <td>77.704804</td>\n",
              "      <td>28869</td>\n",
              "      <td>466</td>\n",
              "      <td>Image-Partner with us today!</td>\n",
              "    </tr>\n",
              "    <tr>\n",
              "      <th>2</th>\n",
              "      <td>CV - Franchise Lead Generation - Phase II - 3 Nov</td>\n",
              "      <td>Business Owners</td>\n",
              "      <td>Image-Minimum Investment &amp; Maximum Profit</td>\n",
              "      <td>facebook</td>\n",
              "      <td>39.0</td>\n",
              "      <td>2.082948</td>\n",
              "      <td>0.180122</td>\n",
              "      <td>2564.862106</td>\n",
              "      <td>65.765695</td>\n",
              "      <td>2 to 3</td>\n",
              "      <td>118.458438</td>\n",
              "      <td>21652</td>\n",
              "      <td>451</td>\n",
              "      <td>Image-Minimum Investment &amp; Maximum Profit</td>\n",
              "    </tr>\n",
              "    <tr>\n",
              "      <th>3</th>\n",
              "      <td>CV - Franchise Lead Generation - Phase II - 3 Nov</td>\n",
              "      <td>Business Owners</td>\n",
              "      <td>Video-No. 1 Franchise Opportunity</td>\n",
              "      <td>facebook</td>\n",
              "      <td>27.0</td>\n",
              "      <td>2.073127</td>\n",
              "      <td>0.139240</td>\n",
              "      <td>2321.700000</td>\n",
              "      <td>85.988889</td>\n",
              "      <td>2 to 3</td>\n",
              "      <td>119.730803</td>\n",
              "      <td>19391</td>\n",
              "      <td>402</td>\n",
              "      <td>Video-No. 1 Franchise Opportunity</td>\n",
              "    </tr>\n",
              "    <tr>\n",
              "      <th>4</th>\n",
              "      <td>CV - Franchise Lead Generation - Phase II - 3 Nov</td>\n",
              "      <td>Remarketing</td>\n",
              "      <td>Image-Minimum Investment &amp; Maximum Profit</td>\n",
              "      <td>facebook</td>\n",
              "      <td>50.0</td>\n",
              "      <td>3.079187</td>\n",
              "      <td>0.262729</td>\n",
              "      <td>2037.960000</td>\n",
              "      <td>40.759200</td>\n",
              "      <td>2 to 3</td>\n",
              "      <td>107.086333</td>\n",
              "      <td>19031</td>\n",
              "      <td>586</td>\n",
              "      <td>Image-Minimum Investment &amp; Maximum Profit</td>\n",
              "    </tr>\n",
              "  </tbody>\n",
              "</table>\n",
              "</div>"
            ],
            "text/plain": [
              "                                       Campaign name  ...                                    Ad_name\n",
              "0  CV - Franchise Lead Generation - Phase II - 3 Nov  ...  Image-Minimum Investment & Maximum Profit\n",
              "1  CV - Franchise Lead Generation - Phase II - 3 Nov  ...               Image-Partner with us today!\n",
              "2  CV - Franchise Lead Generation - Phase II - 3 Nov  ...  Image-Minimum Investment & Maximum Profit\n",
              "3  CV - Franchise Lead Generation - Phase II - 3 Nov  ...          Video-No. 1 Franchise Opportunity\n",
              "4  CV - Franchise Lead Generation - Phase II - 3 Nov  ...  Image-Minimum Investment & Maximum Profit\n",
              "\n",
              "[5 rows x 14 columns]"
            ]
          },
          "metadata": {
            "tags": []
          },
          "execution_count": 21
        }
      ]
    },
    {
      "cell_type": "code",
      "metadata": {
        "scrolled": false,
        "id": "d5A8gQzSl4tB",
        "colab_type": "code",
        "colab": {}
      },
      "source": [
        "data[['Ad Format','Ad Headline']] = data.Ad_name.str.split(\"-\",expand=True)"
      ],
      "execution_count": 0,
      "outputs": []
    },
    {
      "cell_type": "code",
      "metadata": {
        "scrolled": false,
        "id": "1vTyeMGkl4tD",
        "colab_type": "code",
        "outputId": "3ae998e2-5381-4075-8b63-2a95560588a6",
        "colab": {
          "base_uri": "https://localhost:8080/",
          "height": 683
        }
      },
      "source": [
        "data.head()"
      ],
      "execution_count": 0,
      "outputs": [
        {
          "output_type": "execute_result",
          "data": {
            "text/html": [
              "<div>\n",
              "<style scoped>\n",
              "    .dataframe tbody tr th:only-of-type {\n",
              "        vertical-align: middle;\n",
              "    }\n",
              "\n",
              "    .dataframe tbody tr th {\n",
              "        vertical-align: top;\n",
              "    }\n",
              "\n",
              "    .dataframe thead th {\n",
              "        text-align: right;\n",
              "    }\n",
              "</style>\n",
              "<table border=\"1\" class=\"dataframe\">\n",
              "  <thead>\n",
              "    <tr style=\"text-align: right;\">\n",
              "      <th></th>\n",
              "      <th>Campaign name</th>\n",
              "      <th>Ad set name</th>\n",
              "      <th>Ad name</th>\n",
              "      <th>Platform</th>\n",
              "      <th>Results</th>\n",
              "      <th>CTR (all)</th>\n",
              "      <th>Result rate</th>\n",
              "      <th>Amount spent (INR)</th>\n",
              "      <th>Cost per result</th>\n",
              "      <th>Frequency</th>\n",
              "      <th>CPM (cost per 1,000 impressions)</th>\n",
              "      <th>Impressions</th>\n",
              "      <th>Clicks (all)</th>\n",
              "      <th>Ad_name</th>\n",
              "      <th>Ad Format</th>\n",
              "      <th>Ad Headline</th>\n",
              "    </tr>\n",
              "  </thead>\n",
              "  <tbody>\n",
              "    <tr>\n",
              "      <th>0</th>\n",
              "      <td>CV - Franchise Lead Generation - Phase II - 3 Nov</td>\n",
              "      <td>IT Professionals</td>\n",
              "      <td>Image-Minimum Investment &amp; Maximum Profit</td>\n",
              "      <td>facebook</td>\n",
              "      <td>66.0</td>\n",
              "      <td>2.048234</td>\n",
              "      <td>0.203283</td>\n",
              "      <td>3581.630000</td>\n",
              "      <td>54.267121</td>\n",
              "      <td>2 to 3</td>\n",
              "      <td>110.316013</td>\n",
              "      <td>32467</td>\n",
              "      <td>665</td>\n",
              "      <td>Image-Minimum Investment &amp; Maximum Profit</td>\n",
              "      <td>Image</td>\n",
              "      <td>Minimum Investment &amp; Maximum Profit</td>\n",
              "    </tr>\n",
              "    <tr>\n",
              "      <th>1</th>\n",
              "      <td>CV - Franchise Lead Generation - Phase II - 3 Nov</td>\n",
              "      <td>Remarketing</td>\n",
              "      <td>Image-Partner with us today!</td>\n",
              "      <td>facebook</td>\n",
              "      <td>38.0</td>\n",
              "      <td>1.614188</td>\n",
              "      <td>0.131629</td>\n",
              "      <td>2243.260000</td>\n",
              "      <td>59.033158</td>\n",
              "      <td>3 to 4</td>\n",
              "      <td>77.704804</td>\n",
              "      <td>28869</td>\n",
              "      <td>466</td>\n",
              "      <td>Image-Partner with us today!</td>\n",
              "      <td>Image</td>\n",
              "      <td>Partner with us today!</td>\n",
              "    </tr>\n",
              "    <tr>\n",
              "      <th>2</th>\n",
              "      <td>CV - Franchise Lead Generation - Phase II - 3 Nov</td>\n",
              "      <td>Business Owners</td>\n",
              "      <td>Image-Minimum Investment &amp; Maximum Profit</td>\n",
              "      <td>facebook</td>\n",
              "      <td>39.0</td>\n",
              "      <td>2.082948</td>\n",
              "      <td>0.180122</td>\n",
              "      <td>2564.862106</td>\n",
              "      <td>65.765695</td>\n",
              "      <td>2 to 3</td>\n",
              "      <td>118.458438</td>\n",
              "      <td>21652</td>\n",
              "      <td>451</td>\n",
              "      <td>Image-Minimum Investment &amp; Maximum Profit</td>\n",
              "      <td>Image</td>\n",
              "      <td>Minimum Investment &amp; Maximum Profit</td>\n",
              "    </tr>\n",
              "    <tr>\n",
              "      <th>3</th>\n",
              "      <td>CV - Franchise Lead Generation - Phase II - 3 Nov</td>\n",
              "      <td>Business Owners</td>\n",
              "      <td>Video-No. 1 Franchise Opportunity</td>\n",
              "      <td>facebook</td>\n",
              "      <td>27.0</td>\n",
              "      <td>2.073127</td>\n",
              "      <td>0.139240</td>\n",
              "      <td>2321.700000</td>\n",
              "      <td>85.988889</td>\n",
              "      <td>2 to 3</td>\n",
              "      <td>119.730803</td>\n",
              "      <td>19391</td>\n",
              "      <td>402</td>\n",
              "      <td>Video-No. 1 Franchise Opportunity</td>\n",
              "      <td>Video</td>\n",
              "      <td>No. 1 Franchise Opportunity</td>\n",
              "    </tr>\n",
              "    <tr>\n",
              "      <th>4</th>\n",
              "      <td>CV - Franchise Lead Generation - Phase II - 3 Nov</td>\n",
              "      <td>Remarketing</td>\n",
              "      <td>Image-Minimum Investment &amp; Maximum Profit</td>\n",
              "      <td>facebook</td>\n",
              "      <td>50.0</td>\n",
              "      <td>3.079187</td>\n",
              "      <td>0.262729</td>\n",
              "      <td>2037.960000</td>\n",
              "      <td>40.759200</td>\n",
              "      <td>2 to 3</td>\n",
              "      <td>107.086333</td>\n",
              "      <td>19031</td>\n",
              "      <td>586</td>\n",
              "      <td>Image-Minimum Investment &amp; Maximum Profit</td>\n",
              "      <td>Image</td>\n",
              "      <td>Minimum Investment &amp; Maximum Profit</td>\n",
              "    </tr>\n",
              "  </tbody>\n",
              "</table>\n",
              "</div>"
            ],
            "text/plain": [
              "                                       Campaign name  ...                          Ad Headline\n",
              "0  CV - Franchise Lead Generation - Phase II - 3 Nov  ...  Minimum Investment & Maximum Profit\n",
              "1  CV - Franchise Lead Generation - Phase II - 3 Nov  ...               Partner with us today!\n",
              "2  CV - Franchise Lead Generation - Phase II - 3 Nov  ...  Minimum Investment & Maximum Profit\n",
              "3  CV - Franchise Lead Generation - Phase II - 3 Nov  ...          No. 1 Franchise Opportunity\n",
              "4  CV - Franchise Lead Generation - Phase II - 3 Nov  ...  Minimum Investment & Maximum Profit\n",
              "\n",
              "[5 rows x 16 columns]"
            ]
          },
          "metadata": {
            "tags": []
          },
          "execution_count": 23
        }
      ]
    },
    {
      "cell_type": "code",
      "metadata": {
        "id": "qgv41RiLl4tG",
        "colab_type": "code",
        "colab": {}
      },
      "source": [
        "data.drop(['Ad name','Ad_name'],axis=1, inplace = True)"
      ],
      "execution_count": 0,
      "outputs": []
    },
    {
      "cell_type": "code",
      "metadata": {
        "id": "xxEBiVXtl4tJ",
        "colab_type": "code",
        "outputId": "4068b0c6-7a2f-4c46-a27c-ce99a5566ef4",
        "colab": {
          "base_uri": "https://localhost:8080/",
          "height": 683
        }
      },
      "source": [
        "data.head()"
      ],
      "execution_count": 0,
      "outputs": [
        {
          "output_type": "execute_result",
          "data": {
            "text/html": [
              "<div>\n",
              "<style scoped>\n",
              "    .dataframe tbody tr th:only-of-type {\n",
              "        vertical-align: middle;\n",
              "    }\n",
              "\n",
              "    .dataframe tbody tr th {\n",
              "        vertical-align: top;\n",
              "    }\n",
              "\n",
              "    .dataframe thead th {\n",
              "        text-align: right;\n",
              "    }\n",
              "</style>\n",
              "<table border=\"1\" class=\"dataframe\">\n",
              "  <thead>\n",
              "    <tr style=\"text-align: right;\">\n",
              "      <th></th>\n",
              "      <th>Campaign name</th>\n",
              "      <th>Ad set name</th>\n",
              "      <th>Platform</th>\n",
              "      <th>Results</th>\n",
              "      <th>CTR (all)</th>\n",
              "      <th>Result rate</th>\n",
              "      <th>Amount spent (INR)</th>\n",
              "      <th>Cost per result</th>\n",
              "      <th>Frequency</th>\n",
              "      <th>CPM (cost per 1,000 impressions)</th>\n",
              "      <th>Impressions</th>\n",
              "      <th>Clicks (all)</th>\n",
              "      <th>Ad Format</th>\n",
              "      <th>Ad Headline</th>\n",
              "    </tr>\n",
              "  </thead>\n",
              "  <tbody>\n",
              "    <tr>\n",
              "      <th>0</th>\n",
              "      <td>CV - Franchise Lead Generation - Phase II - 3 Nov</td>\n",
              "      <td>IT Professionals</td>\n",
              "      <td>facebook</td>\n",
              "      <td>66.0</td>\n",
              "      <td>2.048234</td>\n",
              "      <td>0.203283</td>\n",
              "      <td>3581.630000</td>\n",
              "      <td>54.267121</td>\n",
              "      <td>2 to 3</td>\n",
              "      <td>110.316013</td>\n",
              "      <td>32467</td>\n",
              "      <td>665</td>\n",
              "      <td>Image</td>\n",
              "      <td>Minimum Investment &amp; Maximum Profit</td>\n",
              "    </tr>\n",
              "    <tr>\n",
              "      <th>1</th>\n",
              "      <td>CV - Franchise Lead Generation - Phase II - 3 Nov</td>\n",
              "      <td>Remarketing</td>\n",
              "      <td>facebook</td>\n",
              "      <td>38.0</td>\n",
              "      <td>1.614188</td>\n",
              "      <td>0.131629</td>\n",
              "      <td>2243.260000</td>\n",
              "      <td>59.033158</td>\n",
              "      <td>3 to 4</td>\n",
              "      <td>77.704804</td>\n",
              "      <td>28869</td>\n",
              "      <td>466</td>\n",
              "      <td>Image</td>\n",
              "      <td>Partner with us today!</td>\n",
              "    </tr>\n",
              "    <tr>\n",
              "      <th>2</th>\n",
              "      <td>CV - Franchise Lead Generation - Phase II - 3 Nov</td>\n",
              "      <td>Business Owners</td>\n",
              "      <td>facebook</td>\n",
              "      <td>39.0</td>\n",
              "      <td>2.082948</td>\n",
              "      <td>0.180122</td>\n",
              "      <td>2564.862106</td>\n",
              "      <td>65.765695</td>\n",
              "      <td>2 to 3</td>\n",
              "      <td>118.458438</td>\n",
              "      <td>21652</td>\n",
              "      <td>451</td>\n",
              "      <td>Image</td>\n",
              "      <td>Minimum Investment &amp; Maximum Profit</td>\n",
              "    </tr>\n",
              "    <tr>\n",
              "      <th>3</th>\n",
              "      <td>CV - Franchise Lead Generation - Phase II - 3 Nov</td>\n",
              "      <td>Business Owners</td>\n",
              "      <td>facebook</td>\n",
              "      <td>27.0</td>\n",
              "      <td>2.073127</td>\n",
              "      <td>0.139240</td>\n",
              "      <td>2321.700000</td>\n",
              "      <td>85.988889</td>\n",
              "      <td>2 to 3</td>\n",
              "      <td>119.730803</td>\n",
              "      <td>19391</td>\n",
              "      <td>402</td>\n",
              "      <td>Video</td>\n",
              "      <td>No. 1 Franchise Opportunity</td>\n",
              "    </tr>\n",
              "    <tr>\n",
              "      <th>4</th>\n",
              "      <td>CV - Franchise Lead Generation - Phase II - 3 Nov</td>\n",
              "      <td>Remarketing</td>\n",
              "      <td>facebook</td>\n",
              "      <td>50.0</td>\n",
              "      <td>3.079187</td>\n",
              "      <td>0.262729</td>\n",
              "      <td>2037.960000</td>\n",
              "      <td>40.759200</td>\n",
              "      <td>2 to 3</td>\n",
              "      <td>107.086333</td>\n",
              "      <td>19031</td>\n",
              "      <td>586</td>\n",
              "      <td>Image</td>\n",
              "      <td>Minimum Investment &amp; Maximum Profit</td>\n",
              "    </tr>\n",
              "  </tbody>\n",
              "</table>\n",
              "</div>"
            ],
            "text/plain": [
              "                                       Campaign name  ...                          Ad Headline\n",
              "0  CV - Franchise Lead Generation - Phase II - 3 Nov  ...  Minimum Investment & Maximum Profit\n",
              "1  CV - Franchise Lead Generation - Phase II - 3 Nov  ...               Partner with us today!\n",
              "2  CV - Franchise Lead Generation - Phase II - 3 Nov  ...  Minimum Investment & Maximum Profit\n",
              "3  CV - Franchise Lead Generation - Phase II - 3 Nov  ...          No. 1 Franchise Opportunity\n",
              "4  CV - Franchise Lead Generation - Phase II - 3 Nov  ...  Minimum Investment & Maximum Profit\n",
              "\n",
              "[5 rows x 14 columns]"
            ]
          },
          "metadata": {
            "tags": []
          },
          "execution_count": 25
        }
      ]
    },
    {
      "cell_type": "code",
      "metadata": {
        "id": "JbJMV9Lnl4tM",
        "colab_type": "code",
        "outputId": "4fe96fe0-bc28-47b8-dee4-24affef528e9",
        "colab": {
          "base_uri": "https://localhost:8080/",
          "height": 374
        }
      },
      "source": [
        "data.info(verbose=1)"
      ],
      "execution_count": 0,
      "outputs": [
        {
          "output_type": "stream",
          "text": [
            "<class 'pandas.core.frame.DataFrame'>\n",
            "Int64Index: 62 entries, 0 to 61\n",
            "Data columns (total 14 columns):\n",
            " #   Column                            Non-Null Count  Dtype  \n",
            "---  ------                            --------------  -----  \n",
            " 0   Campaign name                     62 non-null     object \n",
            " 1   Ad set name                       62 non-null     object \n",
            " 2   Platform                          62 non-null     object \n",
            " 3   Results                           62 non-null     float64\n",
            " 4   CTR (all)                         62 non-null     float64\n",
            " 5   Result rate                       62 non-null     float64\n",
            " 6   Amount spent (INR)                62 non-null     float64\n",
            " 7   Cost per result                   46 non-null     float64\n",
            " 8   Frequency                         62 non-null     object \n",
            " 9   CPM (cost per 1,000 impressions)  62 non-null     float64\n",
            " 10  Impressions                       62 non-null     int64  \n",
            " 11  Clicks (all)                      62 non-null     int64  \n",
            " 12  Ad Format                         62 non-null     object \n",
            " 13  Ad Headline                       62 non-null     object \n",
            "dtypes: float64(6), int64(2), object(6)\n",
            "memory usage: 7.3+ KB\n"
          ],
          "name": "stdout"
        }
      ]
    },
    {
      "cell_type": "code",
      "metadata": {
        "id": "3R9Ct-Oql4tO",
        "colab_type": "code",
        "colab": {}
      },
      "source": [
        ""
      ],
      "execution_count": 0,
      "outputs": []
    },
    {
      "cell_type": "code",
      "metadata": {
        "id": "OPLx8LIDl4tR",
        "colab_type": "code",
        "colab": {}
      },
      "source": [
        "data.to_csv('4. Clean_Data_Platform.csv')"
      ],
      "execution_count": 0,
      "outputs": []
    },
    {
      "cell_type": "markdown",
      "metadata": {
        "scrolled": false,
        "id": "oFQejcX8l4tX",
        "colab_type": "text"
      },
      "source": [
        "### 1. Effect of Platform + Ad Format"
      ]
    },
    {
      "cell_type": "code",
      "metadata": {
        "id": "3J-imBfjl4tX",
        "colab_type": "code",
        "outputId": "e6aaeeab-7d70-4e76-8098-6634efde0b22",
        "colab": {
          "base_uri": "https://localhost:8080/",
          "height": 253
        }
      },
      "source": [
        "# increase figure size \n",
        "plt.figure(figsize=(20, 5))\n",
        "\n",
        "# subplot 1\n",
        "plt.subplot(1, 6, 1)\n",
        "sns.barplot(x='Platform', y='Amount spent (INR)', data=data, hue='Ad Format', estimator=np.sum,ci=None)\n",
        "plt.title(\"Total Amount Spent\")\n",
        "plt.xticks(rotation=90)\n",
        "\n",
        "\n",
        "# subplot 2\n",
        "plt.subplot(1, 6, 2)\n",
        "sns.barplot(x='Platform', y='Clicks (all)', data=data, hue='Ad Format', estimator=np.sum,ci=None)\n",
        "plt.title(\"Total Clicks\")\n",
        "plt.xticks(rotation=90)\n",
        "\n",
        "# subplot 3\n",
        "plt.subplot(1, 6, 3)\n",
        "sns.barplot(x='Platform', y='CTR (all)', data=data, hue='Ad Format', estimator=np.mean,ci=None)\n",
        "plt.title(\"CTR\")\n",
        "plt.xticks(rotation=90)\n",
        "\n",
        "# subplot 4\n",
        "plt.subplot(1, 6, 4)\n",
        "sns.barplot(x='Platform', y='Results', data=data, hue='Ad Format', estimator=np.sum,ci=None)\n",
        "plt.title(\"Total Conversions\")\n",
        "plt.xticks(rotation=90)\n",
        "\n",
        "# subplot 5\n",
        "plt.subplot(1, 6, 5)\n",
        "\n",
        "sns.barplot(x='Platform', y='Cost per result', data=data, hue='Ad Format', estimator=np.mean,ci=None)\n",
        "plt.title(\"Avg. Cost per Conversion\")\n",
        "plt.xticks(rotation=90)\n",
        "\n",
        "# subplot 6\n",
        "plt.subplot(1,6, 6)\n",
        "sns.barplot(x='Platform', y='Result rate', data=data, hue='Ad Format', estimator=np.mean,ci=None)\n",
        "plt.title(\"CVR\")\n",
        "plt.xticks(rotation=90)\n",
        "\n",
        "\n",
        "plt.tight_layout(pad=0.7)\n",
        "plt.show()"
      ],
      "execution_count": 0,
      "outputs": [
        {
          "output_type": "display_data",
          "data": {
            "image/png": "[encoded data removed]",
            "text/plain": [
              "<Figure size 1440x360 with 6 Axes>"
            ]
          },
          "metadata": {
            "tags": [],
            "needs_background": "light"
          }
        }
      ]
    },
    {
      "cell_type": "markdown",
      "metadata": {
        "id": "GVgI76xll4ta",
        "colab_type": "text"
      },
      "source": [
        "### 2. Effect of Platform + Frequency"
      ]
    },
    {
      "cell_type": "code",
      "metadata": {
        "id": "Qk87N1Zll4ta",
        "colab_type": "code",
        "colab": {}
      },
      "source": [
        "data = data.sort_values(by=['Frequency']) "
      ],
      "execution_count": 0,
      "outputs": []
    },
    {
      "cell_type": "code",
      "metadata": {
        "scrolled": false,
        "id": "p71LbZwkl4td",
        "colab_type": "code",
        "outputId": "33c3ec6f-0821-4b3a-da90-d03020266759",
        "colab": {
          "base_uri": "https://localhost:8080/",
          "height": 243
        }
      },
      "source": [
        "# increase figure size \n",
        "plt.figure(figsize=(25, 6))\n",
        "\n",
        "# subplot 1\n",
        "plt.subplot(1, 6, 1)\n",
        "sns.barplot(hue='Platform', y='Amount spent (INR)', data=data, x='Frequency', estimator=np.sum,ci=None)\n",
        "plt.title(\"Total Amount Spent\")\n",
        "plt.xticks(rotation=90)\n",
        "\n",
        "\n",
        "# subplot 2\n",
        "plt.subplot(1, 6, 2)\n",
        "sns.barplot(hue='Platform', y='Clicks (all)', data=data, x='Frequency', estimator=np.sum,ci=None)\n",
        "plt.title(\"Total Clicks\")\n",
        "plt.xticks(rotation=90)\n",
        "\n",
        "# subplot 3\n",
        "plt.subplot(1, 6, 3)\n",
        "sns.barplot(hue='Platform', y='CTR (all)', data=data, x='Frequency', estimator=np.mean,ci=None)\n",
        "plt.title(\"CTR\")\n",
        "plt.xticks(rotation=90)\n",
        "\n",
        "# subplot 4\n",
        "plt.subplot(1, 6, 4)\n",
        "sns.barplot(hue='Platform', y='Results', data=data, x='Frequency', estimator=np.sum,ci=None)\n",
        "plt.title(\"Total Conversions\")\n",
        "plt.xticks(rotation=90)\n",
        "\n",
        "# subplot 5\n",
        "plt.subplot(1, 6, 5)\n",
        "\n",
        "sns.barplot(hue='Platform', y='Cost per result', data=data, x='Frequency', estimator=np.mean,ci=None)\n",
        "plt.title(\"Avg. Cost per Conversion\")\n",
        "plt.xticks(rotation=90)\n",
        "\n",
        "# subplot 6\n",
        "plt.subplot(1,6, 6)\n",
        "sns.barplot(hue='Platform', y='Result rate', data=data, x='Frequency', estimator=np.mean,ci=None)\n",
        "plt.title(\"CVR\")\n",
        "plt.xticks(rotation=90)\n",
        "\n",
        "\n",
        "plt.tight_layout(pad=0.7)\n",
        "plt.show()"
      ],
      "execution_count": 0,
      "outputs": [
        {
          "output_type": "display_data",
          "data": {
            "image/png": "[encoded data removed]",
            "text/plain": [
              "<Figure size 1800x432 with 6 Axes>"
            ]
          },
          "metadata": {
            "tags": [],
            "needs_background": "light"
          }
        }
      ]
    },
    {
      "cell_type": "code",
      "metadata": {
        "id": "VoJ_EhvTl4tf",
        "colab_type": "code",
        "colab": {}
      },
      "source": [
        ""
      ],
      "execution_count": 0,
      "outputs": []
    },
    {
      "cell_type": "code",
      "metadata": {
        "id": "Fk_zErDZl4ti",
        "colab_type": "code",
        "colab": {}
      },
      "source": [
        ""
      ],
      "execution_count": 0,
      "outputs": []
    },
    {
      "cell_type": "code",
      "metadata": {
        "id": "ieFn6qzOl4tk",
        "colab_type": "code",
        "colab": {}
      },
      "source": [
        ""
      ],
      "execution_count": 0,
      "outputs": []
    },
    {
      "cell_type": "code",
      "metadata": {
        "id": "7Pp2RPD-l4tn",
        "colab_type": "code",
        "colab": {}
      },
      "source": [
        ""
      ],
      "execution_count": 0,
      "outputs": []
    },
    {
      "cell_type": "code",
      "metadata": {
        "id": "s4alGGC0l4tq",
        "colab_type": "code",
        "colab": {}
      },
      "source": [
        ""
      ],
      "execution_count": 0,
      "outputs": []
    },
    {
      "cell_type": "code",
      "metadata": {
        "id": "wJFO0A16l4tu",
        "colab_type": "code",
        "colab": {}
      },
      "source": [
        ""
      ],
      "execution_count": 0,
      "outputs": []
    }
  ]
}